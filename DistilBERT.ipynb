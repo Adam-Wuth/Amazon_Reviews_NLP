{
 "cells": [
  {
   "cell_type": "markdown",
   "id": "c628a466-ecbf-46fb-94c9-dae7edb79f48",
   "metadata": {},
   "source": [
    "# NLP Project, Classification of Amazon Reviews and Key Phrases\n",
    "#### CSCI 3832 Natural Language Processing\n",
    "Members: Adam Wuth, Benjamin Kohav, Noah Vilas, Aiden Devine, Evan Zachary"
   ]
  },
  {
   "cell_type": "markdown",
   "id": "dde5fb9f-e2fe-4945-82aa-f19f9ea91c9d",
   "metadata": {},
   "source": [
    "### Requirements"
   ]
  },
  {
   "cell_type": "code",
   "execution_count": 2,
   "id": "af68a2c9-d3bf-46d4-96ca-3b290fc42b78",
   "metadata": {},
   "outputs": [],
   "source": [
    "import os, random, sys, copy\n",
    "import torch, torch.nn as nn, numpy as np\n",
    "from tqdm.notebook import tqdm\n",
    "from torch.nn.utils.rnn import pack_padded_sequence, pad_packed_sequence\n",
    "from nltk.tokenize import word_tokenize\n",
    "from datasets import load_dataset, concatenate_datasets, load_from_disk\n",
    "from datetime import datetime\n",
    "import matplotlib.pyplot as plt\n",
    "\n",
    "#seperate imports for bert\n",
    "from datasets import concatenate_datasets, DatasetDict, Dataset\n",
    "from sklearn.model_selection import train_test_split\n",
    "from datasets import load_from_disk\n",
    "from transformers import DistilBertTokenizer, DistilBertForSequenceClassification\n",
    "from torch.optim import AdamW\n",
    "from torch.utils.data import DataLoader\n",
    "from sklearn.metrics import accuracy_score\n",
    "from tqdm import tqdm\n",
    "from collections import Counter\n",
    "from sklearn.metrics import confusion_matrix, ConfusionMatrixDisplay\n",
    "\n"
   ]
  },
  {
   "cell_type": "markdown",
   "id": "c120539f-c174-4e92-8749-d2a4c5ac5ed0",
   "metadata": {},
   "source": [
    "### Load in the data set\n",
    "The dataset is split into categories, but we wanted all categories from 2023. This code block will take forever to run, only run it the first time to get the dataset. In order to do that, I loaded in 1000000, and filter from there\n",
    "# **Only run this code block if you have not used the make_dataset.ipynb**"
   ]
  },
  {
   "cell_type": "code",
   "execution_count": 2,
   "id": "0b332513-8025-435b-a36e-ab781ce6c157",
   "metadata": {},
   "outputs": [
    {
     "name": "stdout",
     "output_type": "stream",
     "text": [
      "Loading category: All_Beauty\n",
      "Loading category: Amazon_Fashion\n",
      "Loading category: Appliances\n",
      "Loading category: Arts_Crafts_and_Sewing\n",
      "Loading category: Automotive\n",
      "Loading category: Baby_Products\n",
      "Loading category: Beauty_and_Personal_Care\n",
      "Loading category: Books\n",
      "Loading category: CDs_and_Vinyl\n",
      "Loading category: Cell_Phones_and_Accessories\n",
      "Loading category: Clothing_Shoes_and_Jewelry\n",
      "Loading category: Digital_Music\n",
      "Loading category: Electronics\n",
      "Loading category: Gift_Cards\n",
      "Loading category: Grocery_and_Gourmet_Food\n",
      "Loading category: Handmade_Products\n",
      "Loading category: Health_and_Household\n",
      "Loading category: Health_and_Personal_Care\n",
      "Loading category: Home_and_Kitchen\n",
      "Loading category: Industrial_and_Scientific\n",
      "Loading category: Kindle_Store\n",
      "Loading category: Magazine_Subscriptions\n",
      "Loading category: Movies_and_TV\n",
      "Loading category: Musical_Instruments\n"
     ]
    },
    {
     "data": {
      "application/vnd.jupyter.widget-view+json": {
       "model_id": "c424193eca574abaa51c6e97e9d80cf7",
       "version_major": 2,
       "version_minor": 0
      },
      "text/plain": [
       "Filter:   0%|          | 0/1000000 [00:00<?, ? examples/s]"
      ]
     },
     "metadata": {},
     "output_type": "display_data"
    },
    {
     "data": {
      "application/vnd.jupyter.widget-view+json": {
       "model_id": "c2b75bd76e0c452798f1d02d7ee0c06e",
       "version_major": 2,
       "version_minor": 0
      },
      "text/plain": [
       "Filter:   0%|          | 0/1000000 [00:00<?, ? examples/s]"
      ]
     },
     "metadata": {},
     "output_type": "display_data"
    },
    {
     "data": {
      "application/vnd.jupyter.widget-view+json": {
       "model_id": "fd4af222cca14d0789a2f7c88dc16be6",
       "version_major": 2,
       "version_minor": 0
      },
      "text/plain": [
       "Filter:   0%|          | 0/1000000 [00:00<?, ? examples/s]"
      ]
     },
     "metadata": {},
     "output_type": "display_data"
    },
    {
     "name": "stdout",
     "output_type": "stream",
     "text": [
      "Loading category: Office_Products\n"
     ]
    },
    {
     "data": {
      "application/vnd.jupyter.widget-view+json": {
       "model_id": "c1d273eee14e423dad43aa05040730c6",
       "version_major": 2,
       "version_minor": 0
      },
      "text/plain": [
       "Filter:   0%|          | 0/1000000 [00:00<?, ? examples/s]"
      ]
     },
     "metadata": {},
     "output_type": "display_data"
    },
    {
     "data": {
      "application/vnd.jupyter.widget-view+json": {
       "model_id": "7f363150b2ae4ed4bac02dc4ad6d5cec",
       "version_major": 2,
       "version_minor": 0
      },
      "text/plain": [
       "Filter:   0%|          | 0/1000000 [00:00<?, ? examples/s]"
      ]
     },
     "metadata": {},
     "output_type": "display_data"
    },
    {
     "data": {
      "application/vnd.jupyter.widget-view+json": {
       "model_id": "6d26864803d946688b17325f93f5940c",
       "version_major": 2,
       "version_minor": 0
      },
      "text/plain": [
       "Filter:   0%|          | 0/1000000 [00:00<?, ? examples/s]"
      ]
     },
     "metadata": {},
     "output_type": "display_data"
    },
    {
     "data": {
      "application/vnd.jupyter.widget-view+json": {
       "model_id": "5fa6810da20042ffa6d06eded3894601",
       "version_major": 2,
       "version_minor": 0
      },
      "text/plain": [
       "Filter:   0%|          | 0/1000000 [00:00<?, ? examples/s]"
      ]
     },
     "metadata": {},
     "output_type": "display_data"
    },
    {
     "data": {
      "application/vnd.jupyter.widget-view+json": {
       "model_id": "9c0a074f4f8c48fc8c630b84f63a1fed",
       "version_major": 2,
       "version_minor": 0
      },
      "text/plain": [
       "Filter:   0%|          | 0/1000000 [00:00<?, ? examples/s]"
      ]
     },
     "metadata": {},
     "output_type": "display_data"
    },
    {
     "name": "stdout",
     "output_type": "stream",
     "text": [
      "Loading category: Patio_Lawn_and_Garden\n"
     ]
    },
    {
     "data": {
      "application/vnd.jupyter.widget-view+json": {
       "model_id": "a3ecccf5687a43e0843020569d4928e5",
       "version_major": 2,
       "version_minor": 0
      },
      "text/plain": [
       "Filter:   0%|          | 0/1000000 [00:00<?, ? examples/s]"
      ]
     },
     "metadata": {},
     "output_type": "display_data"
    },
    {
     "data": {
      "application/vnd.jupyter.widget-view+json": {
       "model_id": "97d22ce6c4b64ec1976b58cea45b1870",
       "version_major": 2,
       "version_minor": 0
      },
      "text/plain": [
       "Filter:   0%|          | 0/1000000 [00:00<?, ? examples/s]"
      ]
     },
     "metadata": {},
     "output_type": "display_data"
    },
    {
     "data": {
      "application/vnd.jupyter.widget-view+json": {
       "model_id": "b19106eb98c74a41ba9d972a5c5df791",
       "version_major": 2,
       "version_minor": 0
      },
      "text/plain": [
       "Filter:   0%|          | 0/1000000 [00:00<?, ? examples/s]"
      ]
     },
     "metadata": {},
     "output_type": "display_data"
    },
    {
     "data": {
      "application/vnd.jupyter.widget-view+json": {
       "model_id": "51b82c4d13fa43eab12c1adca1f2f473",
       "version_major": 2,
       "version_minor": 0
      },
      "text/plain": [
       "Filter:   0%|          | 0/1000000 [00:00<?, ? examples/s]"
      ]
     },
     "metadata": {},
     "output_type": "display_data"
    },
    {
     "data": {
      "application/vnd.jupyter.widget-view+json": {
       "model_id": "e967fc2c84c64a48ac4d08814d5a7017",
       "version_major": 2,
       "version_minor": 0
      },
      "text/plain": [
       "Filter:   0%|          | 0/1000000 [00:00<?, ? examples/s]"
      ]
     },
     "metadata": {},
     "output_type": "display_data"
    },
    {
     "name": "stdout",
     "output_type": "stream",
     "text": [
      "Loading category: Pet_Supplies\n"
     ]
    },
    {
     "data": {
      "application/vnd.jupyter.widget-view+json": {
       "model_id": "d7643be61add4175bdd630cb47c00b95",
       "version_major": 2,
       "version_minor": 0
      },
      "text/plain": [
       "Filter:   0%|          | 0/1000000 [00:00<?, ? examples/s]"
      ]
     },
     "metadata": {},
     "output_type": "display_data"
    },
    {
     "data": {
      "application/vnd.jupyter.widget-view+json": {
       "model_id": "3f6afb911f7045d59f85fa66ac5e13d2",
       "version_major": 2,
       "version_minor": 0
      },
      "text/plain": [
       "Filter:   0%|          | 0/1000000 [00:00<?, ? examples/s]"
      ]
     },
     "metadata": {},
     "output_type": "display_data"
    },
    {
     "data": {
      "application/vnd.jupyter.widget-view+json": {
       "model_id": "d56215dd670f474aaf86d35ebc7a14ae",
       "version_major": 2,
       "version_minor": 0
      },
      "text/plain": [
       "Filter:   0%|          | 0/1000000 [00:00<?, ? examples/s]"
      ]
     },
     "metadata": {},
     "output_type": "display_data"
    },
    {
     "data": {
      "application/vnd.jupyter.widget-view+json": {
       "model_id": "997092ef36854ad9824d1c3982bea50a",
       "version_major": 2,
       "version_minor": 0
      },
      "text/plain": [
       "Filter:   0%|          | 0/1000000 [00:00<?, ? examples/s]"
      ]
     },
     "metadata": {},
     "output_type": "display_data"
    },
    {
     "data": {
      "application/vnd.jupyter.widget-view+json": {
       "model_id": "ab06c3c751994dec889c348cb4852b72",
       "version_major": 2,
       "version_minor": 0
      },
      "text/plain": [
       "Filter:   0%|          | 0/1000000 [00:00<?, ? examples/s]"
      ]
     },
     "metadata": {},
     "output_type": "display_data"
    },
    {
     "name": "stdout",
     "output_type": "stream",
     "text": [
      "Loading category: Software\n"
     ]
    },
    {
     "data": {
      "application/vnd.jupyter.widget-view+json": {
       "model_id": "71f7b56827324a808244ba4686119ab2",
       "version_major": 2,
       "version_minor": 0
      },
      "text/plain": [
       "Filter:   0%|          | 0/1000000 [00:00<?, ? examples/s]"
      ]
     },
     "metadata": {},
     "output_type": "display_data"
    },
    {
     "data": {
      "application/vnd.jupyter.widget-view+json": {
       "model_id": "e6594702f81145c7b127fa47d51aaa90",
       "version_major": 2,
       "version_minor": 0
      },
      "text/plain": [
       "Filter:   0%|          | 0/1000000 [00:00<?, ? examples/s]"
      ]
     },
     "metadata": {},
     "output_type": "display_data"
    },
    {
     "data": {
      "application/vnd.jupyter.widget-view+json": {
       "model_id": "64fd977427604974bd256abcfccfaad1",
       "version_major": 2,
       "version_minor": 0
      },
      "text/plain": [
       "Filter:   0%|          | 0/1000000 [00:00<?, ? examples/s]"
      ]
     },
     "metadata": {},
     "output_type": "display_data"
    },
    {
     "data": {
      "application/vnd.jupyter.widget-view+json": {
       "model_id": "11ba0155f3eb4909a38e88f4444129c2",
       "version_major": 2,
       "version_minor": 0
      },
      "text/plain": [
       "Filter:   0%|          | 0/1000000 [00:00<?, ? examples/s]"
      ]
     },
     "metadata": {},
     "output_type": "display_data"
    },
    {
     "data": {
      "application/vnd.jupyter.widget-view+json": {
       "model_id": "29a3df5eef084bb0836a73a085548b2b",
       "version_major": 2,
       "version_minor": 0
      },
      "text/plain": [
       "Filter:   0%|          | 0/1000000 [00:00<?, ? examples/s]"
      ]
     },
     "metadata": {},
     "output_type": "display_data"
    },
    {
     "name": "stdout",
     "output_type": "stream",
     "text": [
      "Loading category: Sports_and_Outdoors\n"
     ]
    },
    {
     "data": {
      "application/vnd.jupyter.widget-view+json": {
       "model_id": "4e9fb38856ce41179bc9ca0f0e65b9fa",
       "version_major": 2,
       "version_minor": 0
      },
      "text/plain": [
       "Filter:   0%|          | 0/1000000 [00:00<?, ? examples/s]"
      ]
     },
     "metadata": {},
     "output_type": "display_data"
    },
    {
     "data": {
      "application/vnd.jupyter.widget-view+json": {
       "model_id": "b4e9edc3359843a6b8d15b6953d8ab02",
       "version_major": 2,
       "version_minor": 0
      },
      "text/plain": [
       "Filter:   0%|          | 0/1000000 [00:00<?, ? examples/s]"
      ]
     },
     "metadata": {},
     "output_type": "display_data"
    },
    {
     "data": {
      "application/vnd.jupyter.widget-view+json": {
       "model_id": "796f1dd1104e478dafd1940f96ab520b",
       "version_major": 2,
       "version_minor": 0
      },
      "text/plain": [
       "Filter:   0%|          | 0/1000000 [00:00<?, ? examples/s]"
      ]
     },
     "metadata": {},
     "output_type": "display_data"
    },
    {
     "data": {
      "application/vnd.jupyter.widget-view+json": {
       "model_id": "e0475f19124d4e33830cf8d848aa5437",
       "version_major": 2,
       "version_minor": 0
      },
      "text/plain": [
       "Filter:   0%|          | 0/1000000 [00:00<?, ? examples/s]"
      ]
     },
     "metadata": {},
     "output_type": "display_data"
    },
    {
     "data": {
      "application/vnd.jupyter.widget-view+json": {
       "model_id": "ad4d787f141d4b31833d3dc87954464c",
       "version_major": 2,
       "version_minor": 0
      },
      "text/plain": [
       "Filter:   0%|          | 0/1000000 [00:00<?, ? examples/s]"
      ]
     },
     "metadata": {},
     "output_type": "display_data"
    },
    {
     "name": "stdout",
     "output_type": "stream",
     "text": [
      "Loading category: Subscription_Boxes\n"
     ]
    },
    {
     "data": {
      "application/vnd.jupyter.widget-view+json": {
       "model_id": "d497faf82cec453d8ecac9dca3d31e84",
       "version_major": 2,
       "version_minor": 0
      },
      "text/plain": [
       "Filter:   0%|          | 0/16216 [00:00<?, ? examples/s]"
      ]
     },
     "metadata": {},
     "output_type": "display_data"
    },
    {
     "data": {
      "application/vnd.jupyter.widget-view+json": {
       "model_id": "9dc29b8e21734120a1b33b0cdbc5ba66",
       "version_major": 2,
       "version_minor": 0
      },
      "text/plain": [
       "Filter:   0%|          | 0/16216 [00:00<?, ? examples/s]"
      ]
     },
     "metadata": {},
     "output_type": "display_data"
    },
    {
     "data": {
      "application/vnd.jupyter.widget-view+json": {
       "model_id": "622c4bc7326046d8a7e847cb2503d1c6",
       "version_major": 2,
       "version_minor": 0
      },
      "text/plain": [
       "Filter:   0%|          | 0/16216 [00:00<?, ? examples/s]"
      ]
     },
     "metadata": {},
     "output_type": "display_data"
    },
    {
     "data": {
      "application/vnd.jupyter.widget-view+json": {
       "model_id": "4996f004592a47309071516ce5a898e3",
       "version_major": 2,
       "version_minor": 0
      },
      "text/plain": [
       "Filter:   0%|          | 0/16216 [00:00<?, ? examples/s]"
      ]
     },
     "metadata": {},
     "output_type": "display_data"
    },
    {
     "data": {
      "application/vnd.jupyter.widget-view+json": {
       "model_id": "80ecd4eef93946e5a537e869608ba316",
       "version_major": 2,
       "version_minor": 0
      },
      "text/plain": [
       "Filter:   0%|          | 0/16216 [00:00<?, ? examples/s]"
      ]
     },
     "metadata": {},
     "output_type": "display_data"
    },
    {
     "name": "stdout",
     "output_type": "stream",
     "text": [
      "Loading category: Tools_and_Home_Improvement\n"
     ]
    },
    {
     "data": {
      "application/vnd.jupyter.widget-view+json": {
       "model_id": "39c2009412024b5e8af8f470bd8eca95",
       "version_major": 2,
       "version_minor": 0
      },
      "text/plain": [
       "Filter:   0%|          | 0/1000000 [00:00<?, ? examples/s]"
      ]
     },
     "metadata": {},
     "output_type": "display_data"
    },
    {
     "data": {
      "application/vnd.jupyter.widget-view+json": {
       "model_id": "90802fb24d3243508378ba5887e6f8a9",
       "version_major": 2,
       "version_minor": 0
      },
      "text/plain": [
       "Filter:   0%|          | 0/1000000 [00:00<?, ? examples/s]"
      ]
     },
     "metadata": {},
     "output_type": "display_data"
    },
    {
     "data": {
      "application/vnd.jupyter.widget-view+json": {
       "model_id": "f5d80e4979134d77ac896cb57929945b",
       "version_major": 2,
       "version_minor": 0
      },
      "text/plain": [
       "Filter:   0%|          | 0/1000000 [00:00<?, ? examples/s]"
      ]
     },
     "metadata": {},
     "output_type": "display_data"
    },
    {
     "data": {
      "application/vnd.jupyter.widget-view+json": {
       "model_id": "5027e5d436ea4d229f5b3391541f3f01",
       "version_major": 2,
       "version_minor": 0
      },
      "text/plain": [
       "Filter:   0%|          | 0/1000000 [00:00<?, ? examples/s]"
      ]
     },
     "metadata": {},
     "output_type": "display_data"
    },
    {
     "data": {
      "application/vnd.jupyter.widget-view+json": {
       "model_id": "4f08298a245148529519adb555efab39",
       "version_major": 2,
       "version_minor": 0
      },
      "text/plain": [
       "Filter:   0%|          | 0/1000000 [00:00<?, ? examples/s]"
      ]
     },
     "metadata": {},
     "output_type": "display_data"
    },
    {
     "name": "stdout",
     "output_type": "stream",
     "text": [
      "Loading category: Toys_and_Games\n"
     ]
    },
    {
     "data": {
      "application/vnd.jupyter.widget-view+json": {
       "model_id": "63b73cded1f8427bb84c37fd021512a6",
       "version_major": 2,
       "version_minor": 0
      },
      "text/plain": [
       "Filter:   0%|          | 0/1000000 [00:00<?, ? examples/s]"
      ]
     },
     "metadata": {},
     "output_type": "display_data"
    },
    {
     "data": {
      "application/vnd.jupyter.widget-view+json": {
       "model_id": "8b3482ab910e40eaa5d0a3f22f572001",
       "version_major": 2,
       "version_minor": 0
      },
      "text/plain": [
       "Filter:   0%|          | 0/1000000 [00:00<?, ? examples/s]"
      ]
     },
     "metadata": {},
     "output_type": "display_data"
    },
    {
     "data": {
      "application/vnd.jupyter.widget-view+json": {
       "model_id": "f0e5129a4efe40a4b876dccd449eb115",
       "version_major": 2,
       "version_minor": 0
      },
      "text/plain": [
       "Filter:   0%|          | 0/1000000 [00:00<?, ? examples/s]"
      ]
     },
     "metadata": {},
     "output_type": "display_data"
    },
    {
     "data": {
      "application/vnd.jupyter.widget-view+json": {
       "model_id": "18507511be1a42f29a1edb8b3a0aecd0",
       "version_major": 2,
       "version_minor": 0
      },
      "text/plain": [
       "Filter:   0%|          | 0/1000000 [00:00<?, ? examples/s]"
      ]
     },
     "metadata": {},
     "output_type": "display_data"
    },
    {
     "data": {
      "application/vnd.jupyter.widget-view+json": {
       "model_id": "3b216c6b8b4541a2a046ccaa50eb0ee5",
       "version_major": 2,
       "version_minor": 0
      },
      "text/plain": [
       "Filter:   0%|          | 0/1000000 [00:00<?, ? examples/s]"
      ]
     },
     "metadata": {},
     "output_type": "display_data"
    },
    {
     "name": "stdout",
     "output_type": "stream",
     "text": [
      "Loading category: Video_Games\n"
     ]
    },
    {
     "data": {
      "application/vnd.jupyter.widget-view+json": {
       "model_id": "08f35a728e6145b29905d9630122350c",
       "version_major": 2,
       "version_minor": 0
      },
      "text/plain": [
       "Filter:   0%|          | 0/1000000 [00:00<?, ? examples/s]"
      ]
     },
     "metadata": {},
     "output_type": "display_data"
    },
    {
     "data": {
      "application/vnd.jupyter.widget-view+json": {
       "model_id": "f908e0b2f2c144b9b565f49e0e29fa99",
       "version_major": 2,
       "version_minor": 0
      },
      "text/plain": [
       "Filter:   0%|          | 0/1000000 [00:00<?, ? examples/s]"
      ]
     },
     "metadata": {},
     "output_type": "display_data"
    },
    {
     "data": {
      "application/vnd.jupyter.widget-view+json": {
       "model_id": "624a40b243af4881941c00f5328c76bb",
       "version_major": 2,
       "version_minor": 0
      },
      "text/plain": [
       "Filter:   0%|          | 0/1000000 [00:00<?, ? examples/s]"
      ]
     },
     "metadata": {},
     "output_type": "display_data"
    },
    {
     "data": {
      "application/vnd.jupyter.widget-view+json": {
       "model_id": "acfe6025b1e3416799778c86606166f3",
       "version_major": 2,
       "version_minor": 0
      },
      "text/plain": [
       "Filter:   0%|          | 0/1000000 [00:00<?, ? examples/s]"
      ]
     },
     "metadata": {},
     "output_type": "display_data"
    },
    {
     "data": {
      "application/vnd.jupyter.widget-view+json": {
       "model_id": "6bd6aa4e5b6c4193b90deff176f4fdb9",
       "version_major": 2,
       "version_minor": 0
      },
      "text/plain": [
       "Filter:   0%|          | 0/1000000 [00:00<?, ? examples/s]"
      ]
     },
     "metadata": {},
     "output_type": "display_data"
    },
    {
     "name": "stdout",
     "output_type": "stream",
     "text": [
      "Loading category: Unknown\n"
     ]
    },
    {
     "data": {
      "application/vnd.jupyter.widget-view+json": {
       "model_id": "673fe242271f493e930d7ea8c7d747b5",
       "version_major": 2,
       "version_minor": 0
      },
      "text/plain": [
       "Filter:   0%|          | 0/1000000 [00:00<?, ? examples/s]"
      ]
     },
     "metadata": {},
     "output_type": "display_data"
    },
    {
     "data": {
      "application/vnd.jupyter.widget-view+json": {
       "model_id": "597a7f3403184f399543cf0790eccd52",
       "version_major": 2,
       "version_minor": 0
      },
      "text/plain": [
       "Filter:   0%|          | 0/1000000 [00:00<?, ? examples/s]"
      ]
     },
     "metadata": {},
     "output_type": "display_data"
    },
    {
     "data": {
      "application/vnd.jupyter.widget-view+json": {
       "model_id": "9672a500a92246e7940635f8de574884",
       "version_major": 2,
       "version_minor": 0
      },
      "text/plain": [
       "Filter:   0%|          | 0/1000000 [00:00<?, ? examples/s]"
      ]
     },
     "metadata": {},
     "output_type": "display_data"
    },
    {
     "data": {
      "application/vnd.jupyter.widget-view+json": {
       "model_id": "6745d61bef6a47b5a2538f30c4af8fcc",
       "version_major": 2,
       "version_minor": 0
      },
      "text/plain": [
       "Filter:   0%|          | 0/1000000 [00:00<?, ? examples/s]"
      ]
     },
     "metadata": {},
     "output_type": "display_data"
    },
    {
     "data": {
      "application/vnd.jupyter.widget-view+json": {
       "model_id": "df86fdbead2c4bf4a1a86cb25e3fb9a2",
       "version_major": 2,
       "version_minor": 0
      },
      "text/plain": [
       "Filter:   0%|          | 0/1000000 [00:00<?, ? examples/s]"
      ]
     },
     "metadata": {},
     "output_type": "display_data"
    }
   ],
   "source": [
    "#The dataset is split into categories\n",
    "\n",
    "categories = [\n",
    "    \"All_Beauty\",\n",
    "    \"Amazon_Fashion\",\n",
    "    \"Appliances\",\n",
    "    \"Arts_Crafts_and_Sewing\",\n",
    "    \"Automotive\",\n",
    "    \"Baby_Products\",\n",
    "    \"Beauty_and_Personal_Care\",\n",
    "    \"Books\",\n",
    "    \"CDs_and_Vinyl\",\n",
    "    \"Cell_Phones_and_Accessories\",\n",
    "    \"Clothing_Shoes_and_Jewelry\",\n",
    "    \"Digital_Music\",\n",
    "    \"Electronics\",\n",
    "    \"Gift_Cards\",\n",
    "    \"Grocery_and_Gourmet_Food\",\n",
    "    \"Handmade_Products\",\n",
    "    \"Health_and_Household\",\n",
    "    \"Health_and_Personal_Care\",\n",
    "    \"Home_and_Kitchen\",\n",
    "    \"Industrial_and_Scientific\",\n",
    "    \"Kindle_Store\",\n",
    "    \"Magazine_Subscriptions\",\n",
    "    \"Movies_and_TV\",\n",
    "    \"Musical_Instruments\",\n",
    "    \"Office_Products\",\n",
    "    \"Patio_Lawn_and_Garden\",\n",
    "    \"Pet_Supplies\",\n",
    "    \"Software\",\n",
    "    \"Sports_and_Outdoors\",\n",
    "    \"Subscription_Boxes\",\n",
    "    \"Tools_and_Home_Improvement\",\n",
    "    \"Toys_and_Games\",\n",
    "    \"Video_Games\",\n",
    "    \"Unknown\"\n",
    "]\n",
    "\n",
    "\n",
    "limit = 589  # 100,000 target reviews 34 categories 5 stars, (100,000/34)/5 = 889\n",
    "\n",
    "allcats = []\n",
    "\n",
    "for cat in categories:\n",
    "    print(f\"Loading category: {cat}\")\n",
    "    #arbitrary 10000000 to make sure I get enough data after filter\n",
    "    dataset = load_dataset(\"McAuley-Lab/Amazon-Reviews-2023\", f\"raw_review_{cat}\", split=\"full[:1000000]\", trust_remote_code=True)\n",
    "    #dataset = load_dataset(\"McAuley-Lab/Amazon-Reviews-2023\", f\"raw_review_{cat}\", split=\"full[:1%]\",  trust_remote_code=True)\n",
    "    #to get reviews from 2023 onwards 2020 onwards was millions of reviews and was taking\n",
    "    #over an hour just to load the data\n",
    "    filtered_dataset = dataset.filter(lambda x: x['timestamp'] >= int(datetime(2023, 1, 1).timestamp() * 1000))\n",
    "    #in each category, for stars 1-5(not inclusive)\n",
    "    for star in range(1, 6):\n",
    "        data = dataset.filter(lambda x: int(float(x[\"rating\"])) == star)\n",
    "        if len(data) >= limit:\n",
    "            #trim extra reviews randomly to avoid bias\n",
    "            data = data.shuffle().select(range(limit))\n",
    "            allcats.append(data)\n"
   ]
  },
  {
   "cell_type": "code",
   "execution_count": null,
   "id": "e7b40a1b-9be2-4350-9e49-173e75abae9f",
   "metadata": {},
   "outputs": [],
   "source": [
    "#Save reviews so we don't have to run code again\n",
    "reviews = concatenate_datasets(allcats)\n",
    "reviews.save_to_disk(\"filetred_amazon_reviews\")\n",
    "print(Counter(reviews[\"rating\"])) \n",
    "print(f\"Total reviews loaded: {len(reviews)}\")"
   ]
  },
  {
   "cell_type": "markdown",
   "id": "5cfff221-5127-4716-ae61-7d96e01082b4",
   "metadata": {},
   "source": [
    "If you have run that already, reviews was saved(should be in the working directory)so you can just do the next code block instead\n",
    "## If you have your dataset already, start here"
   ]
  },
  {
   "cell_type": "code",
   "execution_count": 3,
   "id": "639ce0c6-202e-4dd3-a558-3f9e1bb8a7f9",
   "metadata": {},
   "outputs": [],
   "source": [
    "reviews = load_from_disk(\"filetred_amazon_reviews\")"
   ]
  },
  {
   "cell_type": "code",
   "execution_count": 4,
   "id": "02451d40-aba7-4726-8c82-9505243a0c3d",
   "metadata": {},
   "outputs": [
    {
     "name": "stdout",
     "output_type": "stream",
     "text": [
      "100130\n",
      "{'rating': 1.0, 'title': 'Worst nail polish ever', 'text': 'Worst nail polish ever! My daughter and I both used this nail polish in two different colors and now our nails are damaged. Our nails split horizontally and are peeling. Plus the damage has caused pain. Worst Sally Hansen product ever!', 'images': [], 'asin': 'B011855ADM', 'parent_asin': 'B011855ADM', 'user_id': 'AEMVAG56MA7MAFULCQJEOVJCKGHA', 'timestamp': 1454738837000, 'helpful_vote': 8, 'verified_purchase': True}\n",
      "{'rating': 1.0, 'title': 'No funciona para mi', 'text': 'Bueno en cuanto a mi respondo que no me funciono. Tengo pocas pestañas, las enchufe antes de poner la máscara y el resultado desastroso. El producto hizo que mis pestañas perdieran el volumen del encrespado horrible.', 'images': [], 'asin': 'B09GTV6WL6', 'parent_asin': 'B09GTV6WL6', 'user_id': 'AFPNHXMEBYKO3SPMFXZCALLZ5IHA', 'timestamp': 1645820993736, 'helpful_vote': 5, 'verified_purchase': True}\n",
      "['rating', 'title', 'text', 'images', 'asin', 'parent_asin', 'user_id', 'timestamp', 'helpful_vote', 'verified_purchase']\n"
     ]
    }
   ],
   "source": [
    "#code to make sure reviews is working\n",
    "print(len(reviews))\n",
    "print(reviews[0])\n",
    "print(reviews[1])\n",
    "print(reviews.column_names)"
   ]
  },
  {
   "cell_type": "markdown",
   "id": "d917f618-d79c-459f-94b3-9dcd5c62efec",
   "metadata": {},
   "source": [
    "## Documentation used for DistilBERT code\n",
    "These are the resources I used in making this notebook. If you get stuck or are trying to make it yourself, these are good resources\n",
    "1. for classification:\n",
    "https://medium.com/@prakashram1327/building-a-text-classification-model-using-distilbert-703c1409696c\n",
    "2. for model and tokenization:https://huggingface.co/distilbert/distilbert-base-uncased\n",
    "3. for training and tesing: https://ai.plainenglish.io/training-a-distilbert-model-from-scratch-9fc627bd4f17\n",
    "4. Other resources:\n",
    "https://discuss.huggingface.co/t/how-is-the-data-shifted-by-one-token-during-causallm-fine-tuning/36386/3\n",
    "https://discuss.huggingface.co/t/getting-40-accuracy-need-suggestions-to-improve/63456\n",
    "https://github.com/huggingface/transformers/issues/17256\n",
    "https://huggingface.co/google-bert/bert-base-uncased\n",
    "https://discuss.huggingface.co/t/how-is-the-data-shifted-by-one-token-during-causallm-fine-tuning/36386"
   ]
  },
  {
   "cell_type": "markdown",
   "id": "c040e918-7b84-4f69-ab01-b617fe7acf35",
   "metadata": {},
   "source": [
    "## Tokenizing and using less data because of crashing issues\n",
    "I tried training with larger data, but it kept crashing the curc kernel. To combat this, I made this code bellow to filter out 5000 reviews, still evenly split."
   ]
  },
  {
   "cell_type": "code",
   "execution_count": 5,
   "id": "4af7112f-4c46-4914-89cc-985156e585ff",
   "metadata": {},
   "outputs": [],
   "source": [
    "#0-4 instead of 1-5\n",
    "def preprocess(example):\n",
    "    example['labels'] = int(example['rating']) - 1\n",
    "    return example\n",
    "#tokenize helper\n",
    "def tokenize_function(example):\n",
    "    return tokenizer(example[\"text\"], padding=\"max_length\", truncation=True, max_length=128)"
   ]
  },
  {
   "cell_type": "code",
   "execution_count": 16,
   "id": "9312198c-71d6-4308-9d23-c6ab540994e9",
   "metadata": {},
   "outputs": [
    {
     "data": {
      "application/vnd.jupyter.widget-view+json": {
       "model_id": "90c7754c9d98420db12a844cf30b2d7a",
       "version_major": 2,
       "version_minor": 0
      },
      "text/plain": [
       "Map:   0%|          | 0/5000 [00:00<?, ? examples/s]"
      ]
     },
     "metadata": {},
     "output_type": "display_data"
    },
    {
     "data": {
      "application/vnd.jupyter.widget-view+json": {
       "model_id": "96de61edd8c743189f9e29ee42896cd5",
       "version_major": 2,
       "version_minor": 0
      },
      "text/plain": [
       "Map:   0%|          | 0/5000 [00:00<?, ? examples/s]"
      ]
     },
     "metadata": {},
     "output_type": "display_data"
    },
    {
     "name": "stdout",
     "output_type": "stream",
     "text": [
      "Counter({1.0: 1000, 2.0: 1000, 5.0: 1000, 4.0: 1000, 3.0: 1000})\n"
     ]
    }
   ],
   "source": [
    "samples_per_class = 1000\n",
    "rate = []\n",
    "#to get even split still\n",
    "for rating in [1.0, 2.0, 3.0, 4.0, 5.0]:\n",
    "    data = reviews.filter(lambda x: x[\"rating\"] == rating)\n",
    "    data = data.shuffle().select(range(min(len(data), samples_per_class)))\n",
    "    rate.append(data)\n",
    "#back into one set\n",
    "reviews_small = concatenate_datasets(rate).shuffle()\n",
    "\n",
    "\n",
    "#Finish toekenizing and check results\n",
    "reviews_small = reviews_small.map(preprocess)\n",
    "tokenizer = DistilBertTokenizer.from_pretrained(\"distilbert-base-uncased\")\n",
    "\n",
    "tokenized = reviews_small.map(tokenize_function, batched=True)\n",
    "tokenized.set_format(type=\"torch\", columns=[\"input_ids\", \"attention_mask\", \"labels\"])\n",
    "print(Counter(reviews_small[\"rating\"])) \n"
   ]
  },
  {
   "cell_type": "markdown",
   "id": "6939d5e4-21f2-4426-a0c4-de250b3b069a",
   "metadata": {},
   "source": [
    "## Training split"
   ]
  },
  {
   "cell_type": "code",
   "execution_count": 19,
   "id": "9453afba-8dac-4afd-a1b7-dc7425f5d8fb",
   "metadata": {},
   "outputs": [
    {
     "name": "stdout",
     "output_type": "stream",
     "text": [
      "Counter({2.0: 800, 3.0: 800, 4.0: 800, 1.0: 800, 5.0: 800})\n",
      "Counter({5.0: 200, 1.0: 200, 4.0: 200, 2.0: 200, 3.0: 200})\n"
     ]
    }
   ],
   "source": [
    "ratings = [0, 1, 2, 3, 4]\n",
    "train_splits = []\n",
    "valid_splits = []\n",
    "#in order to split data, but still get equal split\n",
    "for rating in [1.0, 2.0, 3.0, 4.0, 5.0]:\n",
    "    data = tokenized.filter(lambda x: x[\"rating\"] == rating)\n",
    "    #using pandas for sklearn split\n",
    "    df = data.to_pandas()\n",
    "    train_df, val_df = train_test_split(df, test_size=0.2)\n",
    "    train_splits.append(Dataset.from_pandas(train_df))\n",
    "    valid_splits.append(Dataset.from_pandas(val_df))\n",
    "\n",
    "# take ratings and add back together into training and test\n",
    "train_dataset = concatenate_datasets(train_splits).shuffle()\n",
    "test_dataset = concatenate_datasets(valid_splits).shuffle()\n",
    "print(Counter(train_dataset[\"rating\"])) \n",
    "print(Counter(test_dataset[\"rating\"])) "
   ]
  },
  {
   "cell_type": "code",
   "execution_count": 20,
   "id": "86becadc-76a8-402a-9e9e-0b86699b7ae1",
   "metadata": {},
   "outputs": [
    {
     "name": "stderr",
     "output_type": "stream",
     "text": [
      "Some weights of DistilBertForSequenceClassification were not initialized from the model checkpoint at distilbert-base-uncased and are newly initialized: ['classifier.bias', 'classifier.weight', 'pre_classifier.bias', 'pre_classifier.weight']\n",
      "You should probably TRAIN this model on a down-stream task to be able to use it for predictions and inference.\n"
     ]
    },
    {
     "data": {
      "text/plain": [
       "DistilBertForSequenceClassification(\n",
       "  (distilbert): DistilBertModel(\n",
       "    (embeddings): Embeddings(\n",
       "      (word_embeddings): Embedding(30522, 768, padding_idx=0)\n",
       "      (position_embeddings): Embedding(512, 768)\n",
       "      (LayerNorm): LayerNorm((768,), eps=1e-12, elementwise_affine=True)\n",
       "      (dropout): Dropout(p=0.1, inplace=False)\n",
       "    )\n",
       "    (transformer): Transformer(\n",
       "      (layer): ModuleList(\n",
       "        (0-5): 6 x TransformerBlock(\n",
       "          (attention): DistilBertSdpaAttention(\n",
       "            (dropout): Dropout(p=0.1, inplace=False)\n",
       "            (q_lin): Linear(in_features=768, out_features=768, bias=True)\n",
       "            (k_lin): Linear(in_features=768, out_features=768, bias=True)\n",
       "            (v_lin): Linear(in_features=768, out_features=768, bias=True)\n",
       "            (out_lin): Linear(in_features=768, out_features=768, bias=True)\n",
       "          )\n",
       "          (sa_layer_norm): LayerNorm((768,), eps=1e-12, elementwise_affine=True)\n",
       "          (ffn): FFN(\n",
       "            (dropout): Dropout(p=0.1, inplace=False)\n",
       "            (lin1): Linear(in_features=768, out_features=3072, bias=True)\n",
       "            (lin2): Linear(in_features=3072, out_features=768, bias=True)\n",
       "            (activation): GELUActivation()\n",
       "          )\n",
       "          (output_layer_norm): LayerNorm((768,), eps=1e-12, elementwise_affine=True)\n",
       "        )\n",
       "      )\n",
       "    )\n",
       "  )\n",
       "  (pre_classifier): Linear(in_features=768, out_features=768, bias=True)\n",
       "  (classifier): Linear(in_features=768, out_features=5, bias=True)\n",
       "  (dropout): Dropout(p=0.2, inplace=False)\n",
       ")"
      ]
     },
     "execution_count": 20,
     "metadata": {},
     "output_type": "execute_result"
    }
   ],
   "source": [
    "device = torch.device(\"cpu\")\n",
    "model = DistilBertForSequenceClassification.from_pretrained(\"distilbert-base-uncased\",num_labels=5)\n",
    "model.to(device)\n"
   ]
  },
  {
   "cell_type": "code",
   "execution_count": 21,
   "id": "6402694f-a759-4f05-98e7-b08c2cc9ae15",
   "metadata": {},
   "outputs": [
    {
     "name": "stdout",
     "output_type": "stream",
     "text": [
      "\n",
      "--- Epoch 1 ---\n"
     ]
    },
    {
     "name": "stderr",
     "output_type": "stream",
     "text": [
      "Epoch 1: 100%|██████████| 500/500 [27:59<00:00,  3.36s/it, train_loss=1.44] \n"
     ]
    },
    {
     "name": "stdout",
     "output_type": "stream",
     "text": [
      "Mean Training Loss: 1.288275830745697\n"
     ]
    },
    {
     "name": "stderr",
     "output_type": "stream",
     "text": [
      "Val Epoch 1: 100%|██████████| 125/125 [02:08<00:00,  1.03s/it, val_loss=1.17] \n"
     ]
    },
    {
     "name": "stdout",
     "output_type": "stream",
     "text": [
      "Mean Test Loss: 1.1857834038734436\n",
      "Validation Accuracy: 45.3000\n",
      "\n",
      "--- Epoch 2 ---\n"
     ]
    },
    {
     "name": "stderr",
     "output_type": "stream",
     "text": [
      "Epoch 2: 100%|██████████| 500/500 [28:01<00:00,  3.36s/it, train_loss=0.792]\n"
     ]
    },
    {
     "name": "stdout",
     "output_type": "stream",
     "text": [
      "Mean Training Loss: 1.0268368200659752\n"
     ]
    },
    {
     "name": "stderr",
     "output_type": "stream",
     "text": [
      "Val Epoch 2: 100%|██████████| 125/125 [02:08<00:00,  1.03s/it, val_loss=1.28] \n"
     ]
    },
    {
     "name": "stdout",
     "output_type": "stream",
     "text": [
      "Mean Test Loss: 1.1773173222541808\n",
      "Validation Accuracy: 48.5000\n",
      "\n",
      "--- Epoch 3 ---\n"
     ]
    },
    {
     "name": "stderr",
     "output_type": "stream",
     "text": [
      "Epoch 3: 100%|██████████| 500/500 [27:52<00:00,  3.35s/it, train_loss=1.19] \n"
     ]
    },
    {
     "name": "stdout",
     "output_type": "stream",
     "text": [
      "Mean Training Loss: 0.7873878847658634\n"
     ]
    },
    {
     "name": "stderr",
     "output_type": "stream",
     "text": [
      "Val Epoch 3: 100%|██████████| 125/125 [02:08<00:00,  1.03s/it, val_loss=1.43] "
     ]
    },
    {
     "name": "stdout",
     "output_type": "stream",
     "text": [
      "Mean Test Loss: 1.318415300130844\n",
      "Validation Accuracy: 46.4000\n"
     ]
    },
    {
     "name": "stderr",
     "output_type": "stream",
     "text": [
      "\n"
     ]
    }
   ],
   "source": [
    "\n",
    "optim = torch.optim.AdamW(model.parameters(), lr=5e-5)\n",
    "epochs = 3\n",
    "test_loader = valid_loader\n",
    "#for grpah\n",
    "training_losses =[]\n",
    "accuracies =[]\n",
    "\n",
    "\n",
    "for epoch in range(epochs):\n",
    "    print(f\"\\n--- Epoch {epoch + 1} ---\")\n",
    "    \n",
    "    model.train()\n",
    "    train_losses = []\n",
    "    loop = tqdm(train_loader, leave=True)\n",
    "    \n",
    "    for batch in loop:\n",
    "        optim.zero_grad()\n",
    "        input_ids = batch['input_ids'].to(device)\n",
    "        attention_mask = batch['attention_mask'].to(device)\n",
    "        labels = batch['labels'].to(device)\n",
    "\n",
    "        outputs = model(input_ids, attention_mask=attention_mask, labels=labels)\n",
    "        loss = outputs.loss\n",
    "        loss.backward()\n",
    "        optim.step()\n",
    "\n",
    "        train_losses.append(loss.item())\n",
    "        loop.set_description(f'Epoch {epoch + 1}')\n",
    "        loop.set_postfix(train_loss=loss.item())\n",
    "    training_losses.append(np.mean(train_losses))\n",
    "    print(\"Mean Training Loss:\", np.mean(train_losses))\n",
    "\n",
    "    # Evaluation\n",
    "    model.eval()\n",
    "    test_losses = []\n",
    "    all_preds = []\n",
    "    all_labels = []\n",
    "\n",
    "    loop = tqdm(test_loader, leave=True)\n",
    "    with torch.no_grad():\n",
    "        for batch in loop:\n",
    "            input_ids = batch['input_ids'].to(device)\n",
    "            attention_mask = batch['attention_mask'].to(device)\n",
    "            labels = batch['labels'].to(device)\n",
    "\n",
    "            outputs = model(input_ids, attention_mask=attention_mask, labels=labels)\n",
    "            loss = outputs.loss\n",
    "            logits = outputs.logits\n",
    "\n",
    "            test_losses.append(loss.item())\n",
    "            preds = torch.argmax(logits, dim=1)\n",
    "            all_preds.extend(preds.cpu().numpy())\n",
    "            all_labels.extend(labels.cpu().numpy())\n",
    "\n",
    "            loop.set_description(f'Val Epoch {epoch + 1}')\n",
    "            loop.set_postfix(val_loss=loss.item())\n",
    "\n",
    "    accuracy = accuracy_score(all_labels, all_preds)\n",
    "    accuracies.append(accuracy * 100)\n",
    "    print(\"Mean Test Loss:\", np.mean(test_losses))\n",
    "    print(f\"Validation Accuracy: {accuracy * 100:.4f}\")\n"
   ]
  },
  {
   "cell_type": "code",
   "execution_count": 22,
   "id": "de1e0efb-435f-49ba-92de-cc04e2a8c6f4",
   "metadata": {},
   "outputs": [
    {
     "data": {
      "text/plain": [
       "('small_DistillBERT/tokenizer_config.json',\n",
       " 'small_DistillBERT/special_tokens_map.json',\n",
       " 'small_DistillBERT/vocab.txt',\n",
       " 'small_DistillBERT/added_tokens.json')"
      ]
     },
     "execution_count": 22,
     "metadata": {},
     "output_type": "execute_result"
    }
   ],
   "source": [
    "model.save_pretrained(\"small_DistillBERT/\")\n",
    "tokenizer.save_pretrained(\"small_DistillBERT/\")"
   ]
  },
  {
   "cell_type": "code",
   "execution_count": 40,
   "id": "5e04a2ee-1f97-4751-a84e-988bfa745d0c",
   "metadata": {},
   "outputs": [
    {
     "data": {
      "image/png": "[encoded data removed]",
      "text/plain": [
       "<Figure size 640x480 with 1 Axes>"
      ]
     },
     "metadata": {},
     "output_type": "display_data"
    }
   ],
   "source": [
    "plt.plot(range(1, len(training_losses) + 1), training_losses, marker='o')\n",
    "plt.title(\"Average Training Loss Over Epochs\")\n",
    "plt.xlabel(\"Epoch\")\n",
    "plt.ylabel(\"Loss\")\n",
    "plt.xticks(range(1, len(training_losses) + 1))\n",
    "plt.tight_layout()\n",
    "plt.show()\n"
   ]
  },
  {
   "cell_type": "code",
   "execution_count": 41,
   "id": "bd0d898e-f380-4879-b476-717db267b0ec",
   "metadata": {},
   "outputs": [
    {
     "data": {
      "image/png": "[encoded data removed]",
      "text/plain": [
       "<Figure size 640x480 with 1 Axes>"
      ]
     },
     "metadata": {},
     "output_type": "display_data"
    }
   ],
   "source": [
    "plt.plot(range(1, len(accuracies) + 1), accuracies, marker='o')\n",
    "plt.xlabel('Epoch')\n",
    "plt.ylabel('Accuracy (%)')\n",
    "plt.title('Accuracy over Epochs')\n",
    "plt.show()\n"
   ]
  },
  {
   "cell_type": "code",
   "execution_count": null,
   "id": "31eb2552-33ec-4127-b587-936f6ed862b9",
   "metadata": {},
   "outputs": [
    {
     "data": {
      "image/png": "[encoded data removed]",
      "text/plain": [
       "<Figure size 600x600 with 2 Axes>"
      ]
     },
     "metadata": {},
     "output_type": "display_data"
    }
   ],
   "source": [
    "cm = confusion_matrix(all_labels, all_preds, labels=[0, 1, 2, 3, 4])  # 0 to 4 == 1 to 5 stars\n",
    "disp = ConfusionMatrixDisplay(confusion_matrix=cm, display_labels=[\"1★\", \"2★\", \"3★\", \"4★\", \"5★\"])\n",
    "\n",
    "# #https://scikit-learn.org/stable/modules/generated/sklearn.metrics.ConfusionMatrixDisplay.html\n",
    "disp.plot(cmap=plt.cm.Blues, ax=ax)\n",
    "plt.title(\"Confusion Matrix: True vs Predicted Ratings\")\n",
    "plt.tight_layout()\n",
    "plt.show()"
   ]
  },
  {
   "cell_type": "code",
   "execution_count": null,
   "id": "3e509ec6-abe7-48f2-80c2-4de36eaed58c",
   "metadata": {},
   "outputs": [],
   "source": []
  },
  {
   "cell_type": "markdown",
   "id": "1d0764d0-5541-4455-845c-ca57f8a421d9",
   "metadata": {},
   "source": [
    "## Testing DistilBERT with a larger dataset"
   ]
  },
  {
   "cell_type": "code",
   "execution_count": 6,
   "id": "614c57f2-7633-47c6-8fc9-79377328c8b6",
   "metadata": {},
   "outputs": [
    {
     "data": {
      "application/vnd.jupyter.widget-view+json": {
       "model_id": "0dfafb9415184702a7148ad9a502fc9f",
       "version_major": 2,
       "version_minor": 0
      },
      "text/plain": [
       "Map:   0%|          | 0/10000 [00:00<?, ? examples/s]"
      ]
     },
     "metadata": {},
     "output_type": "display_data"
    },
    {
     "data": {
      "application/vnd.jupyter.widget-view+json": {
       "model_id": "507f0b6a4f014ec9a171e779fb25984f",
       "version_major": 2,
       "version_minor": 0
      },
      "text/plain": [
       "Map:   0%|          | 0/10000 [00:00<?, ? examples/s]"
      ]
     },
     "metadata": {},
     "output_type": "display_data"
    },
    {
     "name": "stdout",
     "output_type": "stream",
     "text": [
      "Counter({3.0: 2000, 4.0: 2000, 5.0: 2000, 2.0: 2000, 1.0: 2000})\n"
     ]
    }
   ],
   "source": [
    "samples_per_class = 2000\n",
    "rate = []\n",
    "#to get even split still\n",
    "for rating in [1.0, 2.0, 3.0, 4.0, 5.0]:\n",
    "    data = reviews.filter(lambda x: x[\"rating\"] == rating)\n",
    "    data = data.shuffle().select(range(min(len(data), samples_per_class)))\n",
    "    rate.append(data)\n",
    "#back into one set\n",
    "reviews_larger = concatenate_datasets(rate).shuffle()\n",
    "\n",
    "\n",
    "#Finish toekenizing and check results\n",
    "reviews_larger = reviews_larger.map(preprocess)\n",
    "tokenizer = DistilBertTokenizer.from_pretrained(\"distilbert-base-uncased\")\n",
    "\n",
    "tokenized = reviews_larger.map(tokenize_function, batched=True)\n",
    "tokenized.set_format(type=\"torch\", columns=[\"input_ids\", \"attention_mask\", \"labels\"])\n",
    "print(Counter(reviews_larger[\"rating\"])) \n"
   ]
  },
  {
   "cell_type": "code",
   "execution_count": 7,
   "id": "29031b16-ad88-4395-b4cf-3106e3746a9b",
   "metadata": {},
   "outputs": [
    {
     "data": {
      "application/vnd.jupyter.widget-view+json": {
       "model_id": "c0a99836e7734ff38c99f3dcd168feab",
       "version_major": 2,
       "version_minor": 0
      },
      "text/plain": [
       "Filter:   0%|          | 0/10000 [00:00<?, ? examples/s]"
      ]
     },
     "metadata": {},
     "output_type": "display_data"
    },
    {
     "data": {
      "application/vnd.jupyter.widget-view+json": {
       "model_id": "6de5554a35ad4e65b69bc87100158242",
       "version_major": 2,
       "version_minor": 0
      },
      "text/plain": [
       "Filter:   0%|          | 0/10000 [00:00<?, ? examples/s]"
      ]
     },
     "metadata": {},
     "output_type": "display_data"
    },
    {
     "data": {
      "application/vnd.jupyter.widget-view+json": {
       "model_id": "611b9b12f432420db7bb3166efca4b0e",
       "version_major": 2,
       "version_minor": 0
      },
      "text/plain": [
       "Filter:   0%|          | 0/10000 [00:00<?, ? examples/s]"
      ]
     },
     "metadata": {},
     "output_type": "display_data"
    },
    {
     "data": {
      "application/vnd.jupyter.widget-view+json": {
       "model_id": "9174c94f8dd34751a90dd692258f3bbb",
       "version_major": 2,
       "version_minor": 0
      },
      "text/plain": [
       "Filter:   0%|          | 0/10000 [00:00<?, ? examples/s]"
      ]
     },
     "metadata": {},
     "output_type": "display_data"
    },
    {
     "data": {
      "application/vnd.jupyter.widget-view+json": {
       "model_id": "c356931de9ad4b31ad57c267e1af716f",
       "version_major": 2,
       "version_minor": 0
      },
      "text/plain": [
       "Filter:   0%|          | 0/10000 [00:00<?, ? examples/s]"
      ]
     },
     "metadata": {},
     "output_type": "display_data"
    },
    {
     "data": {
      "application/vnd.jupyter.widget-view+json": {
       "model_id": "bec5d6f8466d4e76bb9ee46c7f039a7d",
       "version_major": 2,
       "version_minor": 0
      },
      "text/plain": [
       "Map:   0%|          | 0/8000 [00:00<?, ? examples/s]"
      ]
     },
     "metadata": {},
     "output_type": "display_data"
    },
    {
     "data": {
      "application/vnd.jupyter.widget-view+json": {
       "model_id": "6abe2489dea04b49bea447496c484d50",
       "version_major": 2,
       "version_minor": 0
      },
      "text/plain": [
       "Map:   0%|          | 0/2000 [00:00<?, ? examples/s]"
      ]
     },
     "metadata": {},
     "output_type": "display_data"
    },
    {
     "name": "stdout",
     "output_type": "stream",
     "text": [
      "Counter({1.0: 1600, 2.0: 1600, 3.0: 1600, 4.0: 1600, 5.0: 1600})\n",
      "Counter({1.0: 400, 2.0: 400, 3.0: 400, 4.0: 400, 5.0: 400})\n"
     ]
    }
   ],
   "source": [
    "ratings = [0, 1, 2, 3, 4]\n",
    "train_splits = []\n",
    "valid_splits = []\n",
    "#in order to split data, but still get equal split\n",
    "for rating in [1.0, 2.0, 3.0, 4.0, 5.0]:\n",
    "    data = tokenized.filter(lambda x: x[\"rating\"] == rating)\n",
    "    #using pandas for sklearn split\n",
    "    df = data.to_pandas()\n",
    "    train_df, val_df = train_test_split(df, test_size=0.2)\n",
    "    train_splits.append(Dataset.from_pandas(train_df))\n",
    "    valid_splits.append(Dataset.from_pandas(val_df))\n",
    "\n",
    "# take ratings and add back together into training and test\n",
    "# Re-tokenize and set format after splitting\n",
    "train_dataset = concatenate_datasets(train_splits).map(tokenize_function, batched=True)\n",
    "test_dataset = concatenate_datasets(valid_splits).map(tokenize_function, batched=True)\n",
    "\n",
    "train_dataset.set_format(type=\"torch\", columns=[\"input_ids\", \"attention_mask\", \"labels\"])\n",
    "test_dataset.set_format(type=\"torch\", columns=[\"input_ids\", \"attention_mask\", \"labels\"])\n",
    "\n",
    "print(Counter(train_dataset[\"rating\"])) \n",
    "print(Counter(test_dataset[\"rating\"])) \n",
    "train_loader = DataLoader(train_dataset, batch_size=8, shuffle=True)\n",
    "valid_loader = DataLoader(test_dataset, batch_size=8)"
   ]
  },
  {
   "cell_type": "code",
   "execution_count": 8,
   "id": "3cfdf34e-07d4-46ab-ba18-dbd9420314c5",
   "metadata": {},
   "outputs": [
    {
     "name": "stderr",
     "output_type": "stream",
     "text": [
      "Some weights of DistilBertForSequenceClassification were not initialized from the model checkpoint at distilbert-base-uncased and are newly initialized: ['classifier.bias', 'classifier.weight', 'pre_classifier.bias', 'pre_classifier.weight']\n",
      "You should probably TRAIN this model on a down-stream task to be able to use it for predictions and inference.\n"
     ]
    },
    {
     "data": {
      "text/plain": [
       "DistilBertForSequenceClassification(\n",
       "  (distilbert): DistilBertModel(\n",
       "    (embeddings): Embeddings(\n",
       "      (word_embeddings): Embedding(30522, 768, padding_idx=0)\n",
       "      (position_embeddings): Embedding(512, 768)\n",
       "      (LayerNorm): LayerNorm((768,), eps=1e-12, elementwise_affine=True)\n",
       "      (dropout): Dropout(p=0.1, inplace=False)\n",
       "    )\n",
       "    (transformer): Transformer(\n",
       "      (layer): ModuleList(\n",
       "        (0-5): 6 x TransformerBlock(\n",
       "          (attention): DistilBertSdpaAttention(\n",
       "            (dropout): Dropout(p=0.1, inplace=False)\n",
       "            (q_lin): Linear(in_features=768, out_features=768, bias=True)\n",
       "            (k_lin): Linear(in_features=768, out_features=768, bias=True)\n",
       "            (v_lin): Linear(in_features=768, out_features=768, bias=True)\n",
       "            (out_lin): Linear(in_features=768, out_features=768, bias=True)\n",
       "          )\n",
       "          (sa_layer_norm): LayerNorm((768,), eps=1e-12, elementwise_affine=True)\n",
       "          (ffn): FFN(\n",
       "            (dropout): Dropout(p=0.1, inplace=False)\n",
       "            (lin1): Linear(in_features=768, out_features=3072, bias=True)\n",
       "            (lin2): Linear(in_features=3072, out_features=768, bias=True)\n",
       "            (activation): GELUActivation()\n",
       "          )\n",
       "          (output_layer_norm): LayerNorm((768,), eps=1e-12, elementwise_affine=True)\n",
       "        )\n",
       "      )\n",
       "    )\n",
       "  )\n",
       "  (pre_classifier): Linear(in_features=768, out_features=768, bias=True)\n",
       "  (classifier): Linear(in_features=768, out_features=5, bias=True)\n",
       "  (dropout): Dropout(p=0.2, inplace=False)\n",
       ")"
      ]
     },
     "execution_count": 8,
     "metadata": {},
     "output_type": "execute_result"
    }
   ],
   "source": [
    "train_loader = DataLoader(train_dataset, batch_size=8, shuffle=True)\n",
    "valid_loader = DataLoader(test_dataset, batch_size=8)\n",
    "\n",
    "device = torch.device(\"cpu\")\n",
    "model = DistilBertForSequenceClassification.from_pretrained(\"distilbert-base-uncased\",num_labels=5)\n",
    "model.to(device)"
   ]
  },
  {
   "cell_type": "code",
   "execution_count": 9,
   "id": "f902487e-4a70-4264-8758-b9618a9520ea",
   "metadata": {},
   "outputs": [
    {
     "name": "stdout",
     "output_type": "stream",
     "text": [
      "\n",
      "--- Epoch 1 ---\n"
     ]
    },
    {
     "name": "stderr",
     "output_type": "stream",
     "text": [
      "Epoch 1: 100%|██████████| 1000/1000 [55:42<00:00,  3.34s/it, train_loss=1.17]\n"
     ]
    },
    {
     "name": "stdout",
     "output_type": "stream",
     "text": [
      "Mean Training Loss: 1.253199111700058\n"
     ]
    },
    {
     "name": "stderr",
     "output_type": "stream",
     "text": [
      "Val Epoch 1: 100%|██████████| 250/250 [04:16<00:00,  1.03s/it, val_loss=0.476]\n"
     ]
    },
    {
     "name": "stdout",
     "output_type": "stream",
     "text": [
      "Mean Test Loss: 1.145000300168991\n",
      "Validation Accuracy: 49.1000\n",
      "\n",
      "--- Epoch 2 ---\n"
     ]
    },
    {
     "name": "stderr",
     "output_type": "stream",
     "text": [
      "Epoch 2: 100%|██████████| 1000/1000 [55:33<00:00,  3.33s/it, train_loss=1.26]\n"
     ]
    },
    {
     "name": "stdout",
     "output_type": "stream",
     "text": [
      "Mean Training Loss: 1.0226226825416087\n"
     ]
    },
    {
     "name": "stderr",
     "output_type": "stream",
     "text": [
      "Val Epoch 2: 100%|██████████| 250/250 [04:16<00:00,  1.03s/it, val_loss=0.398]\n"
     ]
    },
    {
     "name": "stdout",
     "output_type": "stream",
     "text": [
      "Mean Test Loss: 1.1695368404388429\n",
      "Validation Accuracy: 47.4500\n",
      "\n",
      "--- Epoch 3 ---\n"
     ]
    },
    {
     "name": "stderr",
     "output_type": "stream",
     "text": [
      "Epoch 3: 100%|██████████| 1000/1000 [55:29<00:00,  3.33s/it, train_loss=0.803]\n"
     ]
    },
    {
     "name": "stdout",
     "output_type": "stream",
     "text": [
      "Mean Training Loss: 0.8145481698513031\n"
     ]
    },
    {
     "name": "stderr",
     "output_type": "stream",
     "text": [
      "Val Epoch 3: 100%|██████████| 250/250 [04:16<00:00,  1.03s/it, val_loss=0.497]"
     ]
    },
    {
     "name": "stdout",
     "output_type": "stream",
     "text": [
      "Mean Test Loss: 1.2454515389800072\n",
      "Validation Accuracy: 49.5000\n"
     ]
    },
    {
     "name": "stderr",
     "output_type": "stream",
     "text": [
      "\n"
     ]
    }
   ],
   "source": [
    "\n",
    "optim = torch.optim.AdamW(model.parameters(), lr=5e-5)\n",
    "epochs = 3\n",
    "test_loader = valid_loader\n",
    "#for grpah\n",
    "training_losses =[]\n",
    "accuracies =[]\n",
    "\n",
    "\n",
    "for epoch in range(epochs):\n",
    "    print(f\"\\n--- Epoch {epoch + 1} ---\")\n",
    "    \n",
    "    model.train()\n",
    "    train_losses = []\n",
    "    loop = tqdm(train_loader, leave=True)\n",
    "    \n",
    "    for batch in loop:\n",
    "        optim.zero_grad()\n",
    "        input_ids = batch['input_ids'].to(device)\n",
    "        attention_mask = batch['attention_mask'].to(device)\n",
    "        labels = batch['labels'].to(device)\n",
    "\n",
    "        outputs = model(input_ids, attention_mask=attention_mask, labels=labels)\n",
    "        loss = outputs.loss\n",
    "        loss.backward()\n",
    "        optim.step()\n",
    "\n",
    "        train_losses.append(loss.item())\n",
    "        loop.set_description(f'Epoch {epoch + 1}')\n",
    "        loop.set_postfix(train_loss=loss.item())\n",
    "    training_losses.append(np.mean(train_losses))\n",
    "    print(\"Mean Training Loss:\", np.mean(train_losses))\n",
    "\n",
    "    # Evaluation\n",
    "    model.eval()\n",
    "    test_losses = []\n",
    "    all_preds = []\n",
    "    all_labels = []\n",
    "\n",
    "    loop = tqdm(test_loader, leave=True)\n",
    "    with torch.no_grad():\n",
    "        for batch in loop:\n",
    "            input_ids = batch['input_ids'].to(device)\n",
    "            attention_mask = batch['attention_mask'].to(device)\n",
    "            labels = batch['labels'].to(device)\n",
    "\n",
    "            outputs = model(input_ids, attention_mask=attention_mask, labels=labels)\n",
    "            loss = outputs.loss\n",
    "            logits = outputs.logits\n",
    "\n",
    "            test_losses.append(loss.item())\n",
    "            preds = torch.argmax(logits, dim=1)\n",
    "            all_preds.extend(preds.cpu().numpy())\n",
    "            all_labels.extend(labels.cpu().numpy())\n",
    "\n",
    "            loop.set_description(f'Val Epoch {epoch + 1}')\n",
    "            loop.set_postfix(val_loss=loss.item())\n",
    "\n",
    "    accuracy = accuracy_score(all_labels, all_preds)\n",
    "    accuracies.append(accuracy * 100)\n",
    "    print(\"Mean Test Loss:\", np.mean(test_losses))\n",
    "    print(f\"Validation Accuracy: {accuracy * 100:.4f}\")"
   ]
  },
  {
   "cell_type": "code",
   "execution_count": 13,
   "id": "1a5fe509-ea86-4670-abb2-950bcbb04ebb",
   "metadata": {},
   "outputs": [
    {
     "data": {
      "image/png": "[encoded data removed]",
      "text/plain": [
       "<Figure size 640x480 with 1 Axes>"
      ]
     },
     "metadata": {},
     "output_type": "display_data"
    },
    {
     "data": {
      "image/png": "[encoded data removed]",
      "text/plain": [
       "<Figure size 640x480 with 1 Axes>"
      ]
     },
     "metadata": {},
     "output_type": "display_data"
    },
    {
     "data": {
      "image/png": "[encoded data removed]",
      "text/plain": [
       "<Figure size 600x600 with 2 Axes>"
      ]
     },
     "metadata": {},
     "output_type": "display_data"
    }
   ],
   "source": [
    "model.save_pretrained(\"large_DistillBERT/\")\n",
    "tokenizer.save_pretrained(\"large_DistillBERT/\")\n",
    "\n",
    "plt.plot(range(1, len(training_losses) + 1), training_losses, marker='o')\n",
    "plt.title(\"Average Training Loss Over Epochs\")\n",
    "plt.xlabel(\"Epoch\")\n",
    "plt.ylabel(\"Loss\")\n",
    "plt.xticks(range(1, len(training_losses) + 1))\n",
    "plt.tight_layout()\n",
    "plt.show()\n",
    "\n",
    "plt.plot(range(1, len(accuracies) + 1), accuracies, marker='o')\n",
    "plt.xlabel('Epoch')\n",
    "plt.ylabel('Accuracy (%)')\n",
    "plt.title('Accuracy over Epochs')\n",
    "plt.show()\n",
    "#https://scikit-learn.org/stable/modules/generated/sklearn.metrics.ConfusionMatrixDisplay.html\n",
    "cm = confusion_matrix(all_labels, all_preds, labels=[0, 1, 2, 3, 4])  # 0 to 4 == 1 to 5 stars\n",
    "disp = ConfusionMatrixDisplay(confusion_matrix=cm, display_labels=[\"1★\", \"2★\", \"3★\", \"4★\", \"5★\"])\n",
    "\n",
    "# Plot confusion matrix\n",
    "fig, ax = plt.subplots(figsize=(6, 6))\n",
    "disp.plot(cmap=plt.cm.Blues, ax=ax)\n",
    "plt.title(\"Confusion Matrix: True vs Predicted Ratings\")\n",
    "plt.tight_layout()\n",
    "plt.show()"
   ]
  },
  {
   "cell_type": "code",
   "execution_count": null,
   "id": "20d3a21a-f63b-40bd-a762-cb1e8222342f",
   "metadata": {},
   "outputs": [],
   "source": []
  },
  {
   "cell_type": "markdown",
   "id": "9e012ccc-57da-43a1-a40c-d4dcd48bc735",
   "metadata": {},
   "source": [
    "## Full Data\n",
    "Ideally, we would be able to train a model with the full dataset as would be done here, but due to time and computing constraints, I was unable to complete this trainging in time. I tried to run it over night twice, but it failed both times. After fixing the dataset, I was unable to train with more examples"
   ]
  }
 ],
 "metadata": {
  "kernelspec": {
   "display_name": "Python (mynlp)",
   "language": "python",
   "name": "mynlp"
  },
  "language_info": {
   "codemirror_mode": {
    "name": "ipython",
    "version": 3
   },
   "file_extension": ".py",
   "mimetype": "text/x-python",
   "name": "python",
   "nbconvert_exporter": "python",
   "pygments_lexer": "ipython3",
   "version": "3.12.9"
  }
 },
 "nbformat": 4,
 "nbformat_minor": 5
}
